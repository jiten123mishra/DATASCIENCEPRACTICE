{
 "cells": [
  {
   "cell_type": "code",
   "execution_count": 5,
   "metadata": {
    "scrolled": true
   },
   "outputs": [],
   "source": [
    "#IMPORT LIBRARY\n",
    "import numpy as np\n",
    "import pandas as pd \n",
    "import matplotlib.pyplot as plt \n",
    "import seaborn as sns \n",
    "pd.options.display.max_columns = None\n"
   ]
  },
  {
   "cell_type": "code",
   "execution_count": 7,
   "metadata": {
    "scrolled": false
   },
   "outputs": [
    {
     "name": "stdout",
     "output_type": "stream",
     "text": [
      "   Id  MSSubClass MSZoning  LotFrontage  LotArea Street Alley LotShape  \\\n",
      "0   1          60       RL         65.0     8450   Pave   NaN      Reg   \n",
      "1   2          20       RL         80.0     9600   Pave   NaN      Reg   \n",
      "2   3          60       RL         68.0    11250   Pave   NaN      IR1   \n",
      "3   4          70       RL         60.0     9550   Pave   NaN      IR1   \n",
      "4   5          60       RL         84.0    14260   Pave   NaN      IR1   \n",
      "\n",
      "  LandContour Utilities LotConfig LandSlope Neighborhood Condition1  \\\n",
      "0         Lvl    AllPub    Inside       Gtl      CollgCr       Norm   \n",
      "1         Lvl    AllPub       FR2       Gtl      Veenker      Feedr   \n",
      "2         Lvl    AllPub    Inside       Gtl      CollgCr       Norm   \n",
      "3         Lvl    AllPub    Corner       Gtl      Crawfor       Norm   \n",
      "4         Lvl    AllPub       FR2       Gtl      NoRidge       Norm   \n",
      "\n",
      "  Condition2 BldgType HouseStyle  OverallQual  OverallCond  YearBuilt  \\\n",
      "0       Norm     1Fam     2Story            7            5       2003   \n",
      "1       Norm     1Fam     1Story            6            8       1976   \n",
      "2       Norm     1Fam     2Story            7            5       2001   \n",
      "3       Norm     1Fam     2Story            7            5       1915   \n",
      "4       Norm     1Fam     2Story            8            5       2000   \n",
      "\n",
      "   YearRemodAdd RoofStyle RoofMatl Exterior1st Exterior2nd MasVnrType  \\\n",
      "0          2003     Gable  CompShg     VinylSd     VinylSd    BrkFace   \n",
      "1          1976     Gable  CompShg     MetalSd     MetalSd       None   \n",
      "2          2002     Gable  CompShg     VinylSd     VinylSd    BrkFace   \n",
      "3          1970     Gable  CompShg     Wd Sdng     Wd Shng       None   \n",
      "4          2000     Gable  CompShg     VinylSd     VinylSd    BrkFace   \n",
      "\n",
      "   MasVnrArea ExterQual ExterCond Foundation BsmtQual BsmtCond BsmtExposure  \\\n",
      "0       196.0        Gd        TA      PConc       Gd       TA           No   \n",
      "1         0.0        TA        TA     CBlock       Gd       TA           Gd   \n",
      "2       162.0        Gd        TA      PConc       Gd       TA           Mn   \n",
      "3         0.0        TA        TA     BrkTil       TA       Gd           No   \n",
      "4       350.0        Gd        TA      PConc       Gd       TA           Av   \n",
      "\n",
      "  BsmtFinType1  BsmtFinSF1 BsmtFinType2  BsmtFinSF2  BsmtUnfSF  TotalBsmtSF  \\\n",
      "0          GLQ         706          Unf           0        150          856   \n",
      "1          ALQ         978          Unf           0        284         1262   \n",
      "2          GLQ         486          Unf           0        434          920   \n",
      "3          ALQ         216          Unf           0        540          756   \n",
      "4          GLQ         655          Unf           0        490         1145   \n",
      "\n",
      "  Heating HeatingQC CentralAir Electrical  1stFlrSF  2ndFlrSF  LowQualFinSF  \\\n",
      "0    GasA        Ex          Y      SBrkr       856       854             0   \n",
      "1    GasA        Ex          Y      SBrkr      1262         0             0   \n",
      "2    GasA        Ex          Y      SBrkr       920       866             0   \n",
      "3    GasA        Gd          Y      SBrkr       961       756             0   \n",
      "4    GasA        Ex          Y      SBrkr      1145      1053             0   \n",
      "\n",
      "   GrLivArea  BsmtFullBath  BsmtHalfBath  FullBath  HalfBath  BedroomAbvGr  \\\n",
      "0       1710             1             0         2         1             3   \n",
      "1       1262             0             1         2         0             3   \n",
      "2       1786             1             0         2         1             3   \n",
      "3       1717             1             0         1         0             3   \n",
      "4       2198             1             0         2         1             4   \n",
      "\n",
      "   KitchenAbvGr KitchenQual  TotRmsAbvGrd Functional  Fireplaces FireplaceQu  \\\n",
      "0             1          Gd             8        Typ           0         NaN   \n",
      "1             1          TA             6        Typ           1          TA   \n",
      "2             1          Gd             6        Typ           1          TA   \n",
      "3             1          Gd             7        Typ           1          Gd   \n",
      "4             1          Gd             9        Typ           1          TA   \n",
      "\n",
      "  GarageType  GarageYrBlt GarageFinish  GarageCars  GarageArea GarageQual  \\\n",
      "0     Attchd       2003.0          RFn           2         548         TA   \n",
      "1     Attchd       1976.0          RFn           2         460         TA   \n",
      "2     Attchd       2001.0          RFn           2         608         TA   \n",
      "3     Detchd       1998.0          Unf           3         642         TA   \n",
      "4     Attchd       2000.0          RFn           3         836         TA   \n",
      "\n",
      "  GarageCond PavedDrive  WoodDeckSF  OpenPorchSF  EnclosedPorch  3SsnPorch  \\\n",
      "0         TA          Y           0           61              0          0   \n",
      "1         TA          Y         298            0              0          0   \n",
      "2         TA          Y           0           42              0          0   \n",
      "3         TA          Y           0           35            272          0   \n",
      "4         TA          Y         192           84              0          0   \n",
      "\n",
      "   ScreenPorch  PoolArea PoolQC Fence MiscFeature  MiscVal  MoSold  YrSold  \\\n",
      "0            0         0    NaN   NaN         NaN        0       2    2008   \n",
      "1            0         0    NaN   NaN         NaN        0       5    2007   \n",
      "2            0         0    NaN   NaN         NaN        0       9    2008   \n",
      "3            0         0    NaN   NaN         NaN        0       2    2006   \n",
      "4            0         0    NaN   NaN         NaN        0      12    2008   \n",
      "\n",
      "  SaleType SaleCondition  SalePrice  \n",
      "0       WD        Normal     208500  \n",
      "1       WD        Normal     181500  \n",
      "2       WD        Normal     223500  \n",
      "3       WD       Abnorml     140000  \n",
      "4       WD        Normal     250000  \n",
      "(1460, 81)\n"
     ]
    }
   ],
   "source": [
    "df=pd.read_csv('train.csv')\n",
    "print(df.head())\n",
    "print(df.shape)\n",
    "#SO we have 1460 rows and 81 features "
   ]
  },
  {
   "cell_type": "code",
   "execution_count": 10,
   "metadata": {
    "scrolled": false
   },
   "outputs": [
    {
     "name": "stdout",
     "output_type": "stream",
     "text": [
      "Id                 0\n",
      "MSSubClass         0\n",
      "MSZoning           0\n",
      "LotFrontage      259\n",
      "LotArea            0\n",
      "                ... \n",
      "MoSold             0\n",
      "YrSold             0\n",
      "SaleType           0\n",
      "SaleCondition      0\n",
      "SalePrice          0\n",
      "Length: 81, dtype: int64\n"
     ]
    }
   ],
   "source": [
    "#lets check which columns having how many null valuues \n",
    "print(df.isnull().sum())\n"
   ]
  },
  {
   "cell_type": "code",
   "execution_count": null,
   "metadata": {
    "collapsed": true,
    "scrolled": true
   },
   "outputs": [],
   "source": []
  }
 ],
 "metadata": {
  "kernelspec": {
   "display_name": "Python 3",
   "language": "python",
   "name": "python3"
  },
  "language_info": {
   "codemirror_mode": {
    "name": "ipython",
    "version": 3
   },
   "file_extension": ".py",
   "mimetype": "text/x-python",
   "name": "python",
   "nbconvert_exporter": "python",
   "pygments_lexer": "ipython3",
   "version": "3.7.4"
  }
 },
 "nbformat": 4,
 "nbformat_minor": 2
}
